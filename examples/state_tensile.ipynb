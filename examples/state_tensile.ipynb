{
 "cells": [
  {
   "cell_type": "code",
   "execution_count": 1,
   "metadata": {},
   "outputs": [
    {
     "name": "stderr",
     "output_type": "stream",
     "text": [
      "/Users/ravinderbhattoo/anaconda3/lib/python3.7/site-packages/jax/lib/xla_bridge.py:120: UserWarning: No GPU/TPU found, falling back to CPU.\n",
      "  warnings.warn('No GPU/TPU found, falling back to CPU.')\n"
     ]
    }
   ],
   "source": [
    "import numpy as onp\n",
    "import jax.numpy as np\n",
    "from jax import random\n",
    "from jax import jit\n",
    "from jax_md.util import *\n",
    "import matplotlib.pyplot as plt\n",
    "key = random.PRNGKey(0)\n",
    "from jax_md import quantity, energy\n",
    "\n",
    "from jax_pd import space, materials, damage, mesh, plots, solvers, util, simulation\n"
   ]
  },
  {
   "cell_type": "code",
   "execution_count": 45,
   "metadata": {},
   "outputs": [
    {
     "name": "stderr",
     "output_type": "stream",
     "text": [
      "/Users/ravinderbhattoo/anaconda3/lib/python3.7/site-packages/jax/lax/lax.py:4599: UserWarning: Explicitly requested dtype <class 'numpy.int64'> requested in array is not available, and will be truncated to dtype int32. To enable more dtypes, set the jax_enable_x64 configuration option or the JAX_ENABLE_X64 shell environment variable. See https://github.com/google/jax#current-gotchas for more.\n",
      "  warnings.warn(msg.format(dtype, fun_name , truncated_dtype))\n",
      "/Users/ravinderbhattoo/anaconda3/lib/python3.7/site-packages/jax/lax/lax.py:4599: UserWarning: Explicitly requested dtype <class 'numpy.int64'> requested in zeros is not available, and will be truncated to dtype int32. To enable more dtypes, set the jax_enable_x64 configuration option or the JAX_ENABLE_X64 shell environment variable. See https://github.com/google/jax#current-gotchas for more.\n",
      "  warnings.warn(msg.format(dtype, fun_name , truncated_dtype))\n",
      "/Users/ravinderbhattoo/anaconda3/lib/python3.7/site-packages/jax/lax/lax.py:4599: UserWarning: Explicitly requested dtype <class 'numpy.int64'> requested in ones is not available, and will be truncated to dtype int32. To enable more dtypes, set the jax_enable_x64 configuration option or the JAX_ENABLE_X64 shell environment variable. See https://github.com/google/jax#current-gotchas for more.\n",
      "  warnings.warn(msg.format(dtype, fun_name , truncated_dtype))\n"
     ]
    }
   ],
   "source": [
    "displacement_fn, shift_fn = space.free()\n",
    "\n",
    "R = np.array([[i,j,k] for i in range(10) for j in range(5) for k in range(5)],dtype=np.float32)\n",
    "\n",
    "box_size = [10,9,9]\n",
    "cutoff = f32(2.5)\n",
    "bonds0 = util.bonds(displacement_fn, box_size, cutoff, R)\n",
    "\n",
    "lengths0 = util.bond_lengths(bonds0,R)"
   ]
  },
  {
   "cell_type": "code",
   "execution_count": 46,
   "metadata": {},
   "outputs": [
    {
     "data": {
      "text/plain": [
       "DeviceArray(0., dtype=float32)"
      ]
     },
     "execution_count": 46,
     "metadata": {},
     "output_type": "execute_result"
    }
   ],
   "source": [
    "stretch = f32(0.4)\n",
    "epsilon = f32(1000)\n",
    "epsilon2 = f32(1000)\n",
    "radius = f32(1)\n",
    "\n",
    "energy_fn = [{'func':materials.simple_spring_bond,\n",
    "              'args':[displacement_fn], \n",
    "              'kwargs':dict(bond=bonds0,length=lengths0, epsilon=epsilon, stretch=stretch, \n",
    "                            radius=radius, epsilon2=epsilon2)\n",
    "                 }, \n",
    "            {'func':energy.soft_sphere_pair, \n",
    "             'args':[displacement_fn], \n",
    "             'kwargs':dict(sigma=radius, epsilon=epsilon2)\n",
    "                },\n",
    "                [bonds0,stretch]]\n",
    "\n",
    "def cal_energy(R,energy_fn):\n",
    "    energy_fn_calable = [i['func'](*i['args'],**i['kwargs']) for i in energy_fn[:-1]]\n",
    "    return np.sum([j(R) for j in energy_fn_calable])\n",
    "\n",
    "cal_energy(R,energy_fn)"
   ]
  },
  {
   "cell_type": "code",
   "execution_count": 47,
   "metadata": {},
   "outputs": [],
   "source": [
    "def move(R,bool,t=0,R0=R,v=np.array([[0.01,0,0]])):\n",
    "    return R0[bool,:]+t*v\n",
    "\n",
    "def fix(R,bool,t=0,R0=R):\n",
    "    return R0[bool,:]\n",
    "\n",
    "\n",
    "Rbc = [{'bool':R[:,0]<2.5,'fn':move,'kwargs':{'R0':R,'v':np.array([[-0.001,0,0]])}},\n",
    "       {'bool':R[:,0]>6.5,'fn':move,'kwargs':{'R0':R,'v':np.array([[0.001,0,0]])}},\n",
    "              ]\n",
    " "
   ]
  },
  {
   "cell_type": "code",
   "execution_count": 48,
   "metadata": {},
   "outputs": [
    {
     "data": {
      "image/png": "[encoded data removed]",
      "text/plain": [
       "<Figure size 288x864 with 3 Axes>"
      ]
     },
     "metadata": {
      "needs_background": "light"
     },
     "output_type": "display_data"
    }
   ],
   "source": [
    "R1 = [R]\n",
    "\n",
    "def Plotit(i):\n",
    "    x,y = 1,3\n",
    "    fig, axs = plt.subplots(y,x,figsize=[4*x,4*y])\n",
    "    labels = [['x','y'],['x','z'],['y','z']]\n",
    "    for ax,label in zip(axs,labels):\n",
    "        ax.set_xlim([-2, 11])\n",
    "        ax.set_ylim([-5, 8])\n",
    "        ax.set_xlabel(label[0])\n",
    "        ax.set_ylabel(label[1])\n",
    "        ax.axis('on')\n",
    "\n",
    "    plots.W3(i,R1,axs)\n",
    "    plt.show()\n",
    "\n",
    "Plotit(0)\n"
   ]
  },
  {
   "cell_type": "code",
   "execution_count": 49,
   "metadata": {},
   "outputs": [
    {
     "name": "stdout",
     "output_type": "stream",
     "text": [
      "Initial conditions(after iBC): \n",
      "KE: 0.000000, PE: 0.000, TE: 0.000\n",
      "Initial conditions(after BC): \n",
      "KE: 0.000000, PE: 0.000, TE: 0.000\n",
      "Run # 0 :  KE: 0.000000, PE: 0.000, TE: 0.000\n",
      "Run # 50 :  KE: 1367.505737, PE: 595.957, TE: 1963.462\n",
      "Run # 100 :  KE: 17165.220703, PE: 2432.495, TE: 19597.715\n",
      "Run # 150 :  KE: 71872.992188, PE: 5629.819, TE: 77502.812\n",
      "Run # 200 :  KE: 194291.687500, PE: 10345.822, TE: 204637.516\n",
      "Run # 250 :  KE: 415786.593750, PE: 16683.984, TE: 432470.562\n",
      "Run # 300 :  KE: 767726.687500, PE: 24819.428, TE: 792546.125\n",
      "Run # 350 :  KE: 1281602.500000, PE: 34851.707, TE: 1316454.250\n",
      "Run # 400 :  KE: 1986185.125000, PE: 46970.957, TE: 2033156.125\n",
      "Run # 450 :  KE: 2908637.750000, PE: 61169.578, TE: 2969807.250\n",
      "Run # 500 :  KE: 4074679.750000, PE: 77719.531, TE: 4152399.250\n",
      "Run # 550 :  KE: 5486480.000000, PE: 93115.445, TE: 5579595.500\n",
      "Run # 600 :  KE: 7163165.000000, PE: 113425.711, TE: 7276590.500\n",
      "Run # 650 :  KE: 9139704.000000, PE: 136280.328, TE: 9275984.000\n",
      "Run # 700 :  KE: 11429499.000000, PE: 161575.297, TE: 11591074.000\n",
      "Run # 750 :  KE: 14045246.000000, PE: 189659.875, TE: 14234906.000\n",
      "Run # 800 :  KE: 16995204.000000, PE: 220202.234, TE: 17215406.000\n",
      "Run # 850 :  KE: 20264748.000000, PE: 239034.688, TE: 20503782.000\n",
      "Run # 900 :  KE: 23643248.000000, PE: 249350.469, TE: 23892598.000\n",
      "Run # 950 :  KE: 27248256.000000, PE: 269997.969, TE: 27518254.000\n",
      "Run # 1000 :  KE: 31106398.000000, PE: 290838.156, TE: 31397236.000\n",
      "Run # 1050 :  KE: 34871572.000000, PE: 281469.344, TE: 35153040.000\n",
      "Run # 1100 :  KE: 38424620.000000, PE: 264339.656, TE: 38688960.000\n",
      "Run # 1150 :  KE: 41426680.000000, PE: 216038.859, TE: 41642720.000\n",
      "Run # 1200 :  KE: 43812200.000000, PE: 212769.062, TE: 44024968.000\n",
      "Run # 1250 :  KE: 46352808.000000, PE: 226061.344, TE: 46578868.000\n",
      "Run # 1300 :  KE: 48963040.000000, PE: 206552.734, TE: 49169592.000\n",
      "Run # 1350 :  KE: 51451836.000000, PE: 198731.562, TE: 51650568.000\n",
      "Run # 1400 :  KE: 53859944.000000, PE: 191363.250, TE: 54051308.000\n",
      "Run # 1450 :  KE: 56340472.000000, PE: 196430.562, TE: 56536904.000\n",
      "Run # 1500 :  KE: 58828820.000000, PE: 184145.188, TE: 59012964.000\n",
      "Run # 1550 :  KE: 60891388.000000, PE: 157888.984, TE: 61049276.000\n",
      "Run # 1600 :  KE: 62449968.000000, PE: 138423.875, TE: 62588392.000\n",
      "Run # 1650 :  KE: 63709072.000000, PE: 128504.188, TE: 63837576.000\n",
      "Run # 1700 :  KE: 64921288.000000, PE: 123684.078, TE: 65044972.000\n",
      "Run # 1750 :  KE: 66069444.000000, PE: 122946.344, TE: 66192392.000\n",
      "Run # 1800 :  KE: 67122248.000000, PE: 115908.211, TE: 67238160.000\n",
      "Run # 1850 :  KE: 67860000.000000, PE: 100845.656, TE: 67960848.000\n",
      "Run # 1900 :  KE: 68237040.000000, PE: 92305.438, TE: 68329344.000\n",
      "Run # 1950 :  KE: 68502040.000000, PE: 91062.844, TE: 68593104.000\n",
      "Run # 1999 :  KE: 68794760.000000, PE: 91702.969, TE: 68886464.000\n"
     ]
    },
    {
     "data": {
      "text/plain": [
       "True"
      ]
     },
     "execution_count": 49,
     "metadata": {},
     "output_type": "execute_result"
    }
   ],
   "source": [
    "runs = 2000\n",
    "\n",
    "info = [[],[],[]]\n",
    "simulation.run(info,key,runs,1.0e-3, R,energy_fn,shift_fn,Rbc=Rbc,mass=1.0,print_every=50,value_every=3,pos_every=1)\n"
   ]
  },
  {
   "cell_type": "code",
   "execution_count": 50,
   "metadata": {},
   "outputs": [],
   "source": [
    "positions, states, state_values = info"
   ]
  },
  {
   "cell_type": "code",
   "execution_count": 51,
   "metadata": {},
   "outputs": [
    {
     "data": {
      "text/plain": [
       "<matplotlib.legend.Legend at 0x1254dba90>"
      ]
     },
     "execution_count": 51,
     "metadata": {},
     "output_type": "execute_result"
    },
    {
     "data": {
      "image/png": "[encoded data removed]",
      "text/plain": [
       "<Figure size 432x288 with 1 Axes>"
      ]
     },
     "metadata": {
      "needs_background": "light"
     },
     "output_type": "display_data"
    }
   ],
   "source": [
    "plt.plot(range(len(state_values)),np.array(state_values),lw=2)\n",
    "plt.legend(['KE','PE','TE'],frameon=False,loc=[1.1,0])"
   ]
  },
  {
   "cell_type": "code",
   "execution_count": 52,
   "metadata": {},
   "outputs": [],
   "source": [
    "F1 = []\n",
    "F2 = []\n",
    "mask1 = Rbc[0]['bool']\n",
    "mask2 = Rbc[1]['bool']\n",
    "\n",
    "F1 += [(state.acceleration*state.mass)[mask1,0].sum() for state in states]\n",
    "F2 += [(state.acceleration*state.mass)[mask2,0].sum() for state in states]\n",
    "    "
   ]
  },
  {
   "cell_type": "code",
   "execution_count": 53,
   "metadata": {},
   "outputs": [
    {
     "data": {
      "text/plain": [
       "<matplotlib.legend.Legend at 0x12d444908>"
      ]
     },
     "execution_count": 53,
     "metadata": {},
     "output_type": "execute_result"
    },
    {
     "data": {
      "image/png": "[encoded data removed]",
      "text/plain": [
       "<Figure size 432x288 with 1 Axes>"
      ]
     },
     "metadata": {
      "needs_background": "light"
     },
     "output_type": "display_data"
    }
   ],
   "source": [
    "plt.plot(range(len(F1)),F1,label='Fx1',lw=2)\n",
    "plt.plot(range(len(F2)),F2,label='Fx2',lw=2)\n",
    "plt.legend(frameon=0)"
   ]
  },
  {
   "cell_type": "code",
   "execution_count": null,
   "metadata": {},
   "outputs": [],
   "source": [
    "from IPython.display import display\n",
    "\n",
    "import matplotlib\n",
    "k = 50\n",
    "ms = 5\n",
    "\n",
    "\n",
    "def myplot(i):\n",
    "    global ax,l,k\n",
    "    i = i*k\n",
    "    R_plt = onp.array(positions[i])\n",
    "    ls[0].set_data(R_plt[:, 0], R_plt[:, 1],) \n",
    "    ls[1].set_data(R_plt[:, 0], R_plt[:, 2],) \n",
    "    ls[2].set_data(R_plt[:, 1], R_plt[:, 2],) \n",
    "    ls[3].set_data(np.linspace(0,10,len(F1))[:i],np.array(F1)[:i]/max(F1)*10+5)\n",
    "\n",
    "\n",
    "fig, axs = plt.subplots(1,3,figsize=[12,4])\n",
    "ls = []\n",
    "for ax in axs:\n",
    "    ls.append(ax.plot([],[],'o', markersize=ms)[0])\n",
    "    ax.set_xlim([-10, 20])\n",
    "    ax.set_ylim([-10, 20])\n",
    "    ax.axis('on')\n",
    "ls.append(axs[0].plot([],[],)[0])\n",
    "\n",
    "\n",
    "from matplotlib.animation import FuncAnimation\n",
    "ani = FuncAnimation(fig, myplot, frames=int(len(positions)/k))\n",
    "\n",
    "from IPython.display import HTML\n",
    "_ = HTML(ani.to_jshtml())\n"
   ]
  },
  {
   "cell_type": "code",
   "execution_count": null,
   "metadata": {},
   "outputs": [],
   "source": [
    "display(_)"
   ]
  },
  {
   "cell_type": "code",
   "execution_count": null,
   "metadata": {},
   "outputs": [],
   "source": []
  },
  {
   "cell_type": "code",
   "execution_count": null,
   "metadata": {},
   "outputs": [],
   "source": []
  }
 ],
 "metadata": {
  "kernelspec": {
   "display_name": "Python 3",
   "language": "python",
   "name": "python3"
  },
  "language_info": {
   "codemirror_mode": {
    "name": "ipython",
    "version": 3
   },
   "file_extension": ".py",
   "mimetype": "text/x-python",
   "name": "python",
   "nbconvert_exporter": "python",
   "pygments_lexer": "ipython3",
   "version": "3.7.3"
  }
 },
 "nbformat": 4,
 "nbformat_minor": 4
}
